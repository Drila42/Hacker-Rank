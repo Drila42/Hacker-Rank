{
  "nbformat": 4,
  "nbformat_minor": 0,
  "metadata": {
    "colab": {
      "name": "Hackerrank_lists",
      "provenance": [],
      "authorship_tag": "ABX9TyPoz2EqmYMJ6ployGBjqbSR",
      "include_colab_link": true
    },
    "kernelspec": {
      "name": "python3",
      "display_name": "Python 3"
    }
  },
  "cells": [
    {
      "cell_type": "markdown",
      "metadata": {
        "id": "view-in-github",
        "colab_type": "text"
      },
      "source": [
        "<a href=\"https://colab.research.google.com/github/Drila42/Hacker-Rank/blob/master/Hackerrank_lists.ipynb\" target=\"_parent\"><img src=\"https://colab.research.google.com/assets/colab-badge.svg\" alt=\"Open In Colab\"/></a>"
      ]
    },
    {
      "cell_type": "code",
      "metadata": {
        "id": "cIXnulgsIm9F",
        "colab_type": "code",
        "colab": {}
      },
      "source": [
        "n = int(input())\n",
        "arr = [int(x) for x in  input().split()]\n",
        "\n",
        "arr.sort(reverse=True)\n",
        "arr= list(dict.fromkeys(arr))\n",
        "\n",
        "print(arr[1])"
      ],
      "execution_count": 0,
      "outputs": []
    }
  ]
}